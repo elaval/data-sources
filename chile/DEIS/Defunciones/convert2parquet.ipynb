{
 "cells": [
  {
   "cell_type": "code",
   "execution_count": 1,
   "id": "e3109d9d",
   "metadata": {},
   "outputs": [],
   "source": [
    "import pandas as pd"
   ]
  },
  {
   "cell_type": "markdown",
   "id": "7c31f448",
   "metadata": {},
   "source": [
    "# Definir etiquetas de columnas\n",
    "Los archivos oficiales con  datos de defunciones publicados pro el DEIS no incluyen una primera fila con el nombre de las columnas.  Se sefinen a continuación para utilizarlas en los set de datos correspondientes"
   ]
  },
  {
   "cell_type": "code",
   "execution_count": 2,
   "id": "9bc36221",
   "metadata": {},
   "outputs": [],
   "source": [
    "# Define column names\n",
    "column_names = [\n",
    "    'ANO_DEF', 'FECHA_DEF', 'GLOSA_SEXO', 'EDAD_TIPO', 'EDAD_CANT', 'CODIGO_COMUNA_RESIDENCIA',\n",
    "    'GLOSA_COMUNA_RESIDENCIA', 'GLOSA_REG_RES', 'DIAG1', 'CAPITULO_DIAG1', 'GLOSA_CAPITULO_DIAG1',\n",
    "    'CODIGO_GRUPO_DIAG1', 'GLOSA_GRUPO_DIAG1', 'CODIGO_CATEGORIA_DIAG1', 'GLOSA_CATEGORIA_DIAG1',\n",
    "    'CODIGO_SUBCATEGORIA_DIAG1', 'GLOSA_SUBCATEGORIA_DIAG1', 'DIAG2', 'CAPITULO_DIAG2',\n",
    "    'GLOSA_CAPITULO_DIAG2', 'CODIGO_GRUPO_DIAG2', 'GLOSA_GRUPO_DIAG2', 'CODIGO_CATEGORIA_DIAG2',\n",
    "    'GLOSA_CATEGORIA_DIAG2', 'CODIGO_SUBCATEGORIA_DIAG2', 'GLOSA_SUBCATEGORIA_DIAG2', 'LUGAR_DEFUNCION'\n",
    "]\n"
   ]
  },
  {
   "cell_type": "markdown",
   "id": "d8a46101",
   "metadata": {},
   "source": [
    "# Datos oficiales de defunciones de 1990 a 2020\n",
    "## Convertir a formato parquet\n",
    "* Archivo fuente tiene un gran tamaño (> 800Mb) y no se incluye en el repositorio github\n",
    "* Archivo fuente está en formato ISO-8859-1 y no UTF-8.  Esto puede generar problemas con los caracteres especiales si no se especifica el formato de codificación"
   ]
  },
  {
   "cell_type": "code",
   "execution_count": 6,
   "id": "d790556c",
   "metadata": {},
   "outputs": [],
   "source": [
    "# Read CSV file with ISO-8859-1 encoding directly\n",
    "df = pd.read_csv(\n",
    "    './DEFUNCIONES_FUENTE_DEIS_1990_2020_CIFRAS_OFICIALES.csv',\n",
    "    sep=';',\n",
    "    names=column_names,\n",
    "    encoding='ISO-8859-1',\n",
    "    low_memory=False\n",
    ")\n",
    "\n",
    "df.to_parquet('./DEFUNCIONES_FUENTE_DEIS_1990_2020_CIFRAS_OFICIALES.parquet', compression='snappy')"
   ]
  },
  {
   "cell_type": "markdown",
   "id": "11277da8",
   "metadata": {},
   "source": [
    "# CIFRAS PRELIMINARES de defunciones de 2021 a 2023\n",
    "## Convertir a formato parquet\n",
    "* Archivo fuente tiene un gran tamaño (> 800Mb) y no se incluye en el repositorio github\n",
    "* Archivo fuente está en formato ISO-8859-1 y no UTF-8.  Esto puede generar problemas con los caracteres especiales si no se especifica el formato de codificación"
   ]
  },
  {
   "cell_type": "code",
   "execution_count": 7,
   "id": "c2b60987",
   "metadata": {},
   "outputs": [],
   "source": [
    "# Read CSV file with ISO-8859-1 encoding directly\n",
    "df_preliminar_2021_2023 = pd.read_csv(\n",
    "    './DEFUNCIONES_FUENTE_DEIS_2021_2023_28112023.csv',\n",
    "    sep=';',\n",
    "    names=column_names,\n",
    "    encoding='ISO-8859-1',\n",
    "    low_memory=False\n",
    ")\n",
    "\n",
    "# Convert to Parquet\n",
    "df_preliminar_2021_2023.to_parquet('./DEFUNCIONES_FUENTE_DEIS_2021_2023_28112023.parquet', compression='snappy')"
   ]
  }
 ],
 "metadata": {
  "kernelspec": {
   "display_name": "Python 3 (ipykernel)",
   "language": "python",
   "name": "python3"
  },
  "language_info": {
   "codemirror_mode": {
    "name": "ipython",
    "version": 3
   },
   "file_extension": ".py",
   "mimetype": "text/x-python",
   "name": "python",
   "nbconvert_exporter": "python",
   "pygments_lexer": "ipython3",
   "version": "3.9.12"
  }
 },
 "nbformat": 4,
 "nbformat_minor": 5
}
