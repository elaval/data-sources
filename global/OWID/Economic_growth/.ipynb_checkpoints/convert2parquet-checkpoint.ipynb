{
 "cells": [
  {
   "cell_type": "code",
   "execution_count": 1,
   "id": "e3109d9d",
   "metadata": {},
   "outputs": [],
   "source": [
    "import pandas as pd"
   ]
  },
  {
   "cell_type": "markdown",
   "id": "d8a46101",
   "metadata": {},
   "source": [
    "# GDP per capita (Penn World Table)\n",
    "* Source: Feenstra et al. (2015), Penn World Table (2021) – processed by Our World in Data\n",
    "* Date Range:1950–2019\n",
    "* Unit: international-$ in 2017 prices\n",
    "* Links: https://www.rug.nl/ggdc/productivity/pwt/\n",
    "* OWID Link:https://ourworldindata.org/grapher/gdp-per-capita-penn-world-table\n",
    "\n",
    "## Convertir a formato parquet\n",
    "* Archivo fuente tiene un gran tamaño (> 800Mb) y no se incluye en el repositorio github\n",
    "* Archivo fuente está en formato ISO-8859-1 y no UTF-8.  Esto puede generar problemas con los caracteres especiales si no se especifica el formato de codificación"
   ]
  },
  {
   "cell_type": "code",
   "execution_count": 6,
   "id": "d790556c",
   "metadata": {},
   "outputs": [],
   "source": [
    "GDP per capita\n",
    "# Read CSV file with ISO-8859-1 encoding directly\n",
    "df = pd.read_csv(\n",
    "    './DEFUNCIONES_FUENTE_DEIS_1990_2020_CIFRAS_OFICIALES.csv',\n",
    "    sep=';',\n",
    "    names=column_names,\n",
    "    encoding='ISO-8859-1',\n",
    "    low_memory=False\n",
    ")\n",
    "\n",
    "df.to_parquet('./DEFUNCIONES_FUENTE_DEIS_1990_2020_CIFRAS_OFICIALES.parquet', compression='snappy')"
   ]
  },
  {
   "cell_type": "markdown",
   "id": "11277da8",
   "metadata": {},
   "source": [
    "# CIFRAS PRELIMINARES de defunciones de 2021 a 2023\n",
    "## Convertir a formato parquet\n",
    "* Archivo fuente tiene un gran tamaño (> 800Mb) y no se incluye en el repositorio github\n",
    "* Archivo fuente está en formato ISO-8859-1 y no UTF-8.  Esto puede generar problemas con los caracteres especiales si no se especifica el formato de codificación"
   ]
  },
  {
   "cell_type": "code",
   "execution_count": 7,
   "id": "c2b60987",
   "metadata": {},
   "outputs": [],
   "source": [
    "# Read CSV file with ISO-8859-1 encoding directly\n",
    "df_preliminar_2021_2023 = pd.read_csv(\n",
    "    './DEFUNCIONES_FUENTE_DEIS_2021_2023_28112023.csv',\n",
    "    sep=';',\n",
    "    names=column_names,\n",
    "    encoding='ISO-8859-1',\n",
    "    low_memory=False\n",
    ")\n",
    "\n",
    "# Convert to Parquet\n",
    "df_preliminar_2021_2023.to_parquet('./DEFUNCIONES_FUENTE_DEIS_2021_2023_28112023.parquet', compression='snappy')"
   ]
  }
 ],
 "metadata": {
  "kernelspec": {
   "display_name": "Python 3 (ipykernel)",
   "language": "python",
   "name": "python3"
  },
  "language_info": {
   "codemirror_mode": {
    "name": "ipython",
    "version": 3
   },
   "file_extension": ".py",
   "mimetype": "text/x-python",
   "name": "python",
   "nbconvert_exporter": "python",
   "pygments_lexer": "ipython3",
   "version": "3.9.12"
  }
 },
 "nbformat": 4,
 "nbformat_minor": 5
}
