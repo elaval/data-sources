{
 "cells": [
  {
   "cell_type": "code",
   "execution_count": 3,
   "id": "d790556c",
   "metadata": {},
   "outputs": [],
   "source": [
    "import pandas as pd\n",
    "\n",
    "df = pd.read_csv('./DEFUNCIONES_FUENTE_DEIS_1990_2020_CIFRAS_OFICIALES.csv', sep=';',low_memory=False)\n"
   ]
  },
  {
   "cell_type": "code",
   "execution_count": 6,
   "id": "ba8f9db1",
   "metadata": {},
   "outputs": [],
   "source": [
    "df.to_parquet('./DEFUNCIONES_FUENTE_DEIS_1990_2020_CIFRAS_OFICIALES.parquet', compression='snappy')\n"
   ]
  },
  {
   "cell_type": "code",
   "execution_count": null,
   "id": "c2b60987",
   "metadata": {},
   "outputs": [],
   "source": []
  }
 ],
 "metadata": {
  "kernelspec": {
   "display_name": "Python 3 (ipykernel)",
   "language": "python",
   "name": "python3"
  },
  "language_info": {
   "codemirror_mode": {
    "name": "ipython",
    "version": 3
   },
   "file_extension": ".py",
   "mimetype": "text/x-python",
   "name": "python",
   "nbconvert_exporter": "python",
   "pygments_lexer": "ipython3",
   "version": "3.9.12"
  }
 },
 "nbformat": 4,
 "nbformat_minor": 5
}
